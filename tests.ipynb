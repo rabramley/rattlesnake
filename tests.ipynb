{
 "cells": [
  {
   "attachments": {},
   "cell_type": "markdown",
   "metadata": {},
   "source": [
    "# Speed test for working with samples\n",
    "## Speed of loading sample files x 10,000"
   ]
  },
  {
   "cell_type": "code",
   "execution_count": 7,
   "metadata": {},
   "outputs": [
    {
     "data": {
      "text/plain": [
       "8.698076871000012"
      ]
     },
     "execution_count": 7,
     "metadata": {},
     "output_type": "execute_result"
    }
   ],
   "source": [
    "from samples import SampleFile, Sample\n",
    "import timeit\n",
    "import numpy as np\n",
    "\n",
    "timeit.timeit(\n",
    "    \"sf = SampleFile('data/saw.wav', 36)\",\n",
    "    number=10000,\n",
    "    globals=globals()\n",
    ")"
   ]
  },
  {
   "attachments": {},
   "cell_type": "markdown",
   "metadata": {},
   "source": [
    "# Transposing sample x 10,000"
   ]
  },
  {
   "cell_type": "code",
   "execution_count": 5,
   "metadata": {},
   "outputs": [
    {
     "data": {
      "text/plain": [
       "9.382200674999694"
      ]
     },
     "execution_count": 5,
     "metadata": {},
     "output_type": "execute_result"
    }
   ],
   "source": [
    "from samples import SampleFile, Sample\n",
    "import timeit\n",
    "\n",
    "sf = SampleFile('data/saw.wav', 36)\n",
    "\n",
    "timeit.timeit(\n",
    "    \"s = Sample(sf, 60)\",\n",
    "    number=100000,\n",
    "    globals=globals()\n",
    ")"
   ]
  },
  {
   "attachments": {},
   "cell_type": "markdown",
   "metadata": {},
   "source": [
    "# Note on X 10000"
   ]
  },
  {
   "cell_type": "code",
   "execution_count": 3,
   "metadata": {},
   "outputs": [],
   "source": [
    "import timeit\n",
    "from audio import AudioSystem, EnvelopeFactory\n",
    "from instrument import Instrument\n",
    "from pathlib import Path\n",
    "\n",
    "audio = AudioSystem(device=2, blocksize=512)\n",
    "\n",
    "saw_synth = Instrument(audio, Path('data/saw/'))\n",
    "\n",
    "timeit.timeit(\n",
    "    \"saw_synth.note_on(66, 100)\",\n",
    "    number=10000,\n",
    "    globals=globals()\n",
    ")"
   ]
  },
  {
   "attachments": {},
   "cell_type": "markdown",
   "metadata": {},
   "source": [
    "## Ouputting "
   ]
  },
  {
   "cell_type": "code",
   "execution_count": 10,
   "metadata": {},
   "outputs": [
    {
     "data": {
      "text/plain": [
       "9.151068657985888"
      ]
     },
     "execution_count": 10,
     "metadata": {},
     "output_type": "execute_result"
    }
   ],
   "source": [
    "from samples import SampleFile, Sample\n",
    "from audio import AudioSystem, Envelope, Sound\n",
    "import timeit\n",
    "import numpy as np\n",
    "\n",
    "a = AudioSystem(None)\n",
    "sf = SampleFile('data/saw.wav', 36)\n",
    "s = Sample(sf, 60)\n",
    "envelope = Envelope(100, a.samplerate * 0.5, a.samplerate * 0.5, 0.5, a.samplerate * 2)\n",
    "sound = Sound(s, envelope)\n",
    "a.play(sound)\n",
    "\n",
    "o = np.zeros(a.blocksize * 2, np.int16)\n",
    "\n",
    "timeit.timeit(\n",
    "    \"a(o, a.blocksize, None, None); sound.pos=0\",\n",
    "    number=10000,\n",
    "    globals=globals()\n",
    ")"
   ]
  }
 ],
 "metadata": {
  "kernelspec": {
   "display_name": ".venv",
   "language": "python",
   "name": "python3"
  },
  "language_info": {
   "codemirror_mode": {
    "name": "ipython",
    "version": 3
   },
   "file_extension": ".py",
   "mimetype": "text/x-python",
   "name": "python",
   "nbconvert_exporter": "python",
   "pygments_lexer": "ipython3",
   "version": "3.9.2"
  },
  "orig_nbformat": 4
 },
 "nbformat": 4,
 "nbformat_minor": 2
}
