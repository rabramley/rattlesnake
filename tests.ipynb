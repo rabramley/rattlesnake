{
 "cells": [
  {
   "attachments": {},
   "cell_type": "markdown",
   "metadata": {},
   "source": [
    "# Speed test for working with samples\n",
    "## Speed of loading sample files x 10,000"
   ]
  },
  {
   "cell_type": "code",
   "execution_count": 6,
   "metadata": {},
   "outputs": [
    {
     "data": {
      "text/plain": [
       "87.97486323001795"
      ]
     },
     "execution_count": 6,
     "metadata": {},
     "output_type": "execute_result"
    }
   ],
   "source": [
    "from samples import SampleFile, Sample\n",
    "import timeit\n",
    "import numpy as np\n",
    "\n",
    "timeit.timeit(\n",
    "    \"sf = SampleFile('data/saw.wav', 36)\",\n",
    "    number=10000,\n",
    "    globals=globals()\n",
    ")"
   ]
  },
  {
   "attachments": {},
   "cell_type": "markdown",
   "metadata": {},
   "source": [
    "# Transposing sample x 10,000"
   ]
  },
  {
   "cell_type": "code",
   "execution_count": 42,
   "metadata": {},
   "outputs": [
    {
     "data": {
      "text/plain": [
       "137.89930962800008"
      ]
     },
     "execution_count": 42,
     "metadata": {},
     "output_type": "execute_result"
    }
   ],
   "source": [
    "from samples import SampleFile, Sample\n",
    "import timeit\n",
    "\n",
    "sf = SampleFile('data/saw.wav', 36)\n",
    "\n",
    "timeit.timeit(\n",
    "    \"s = Sample(sf, 60)\",\n",
    "    number=10000,\n",
    "    globals=globals()\n",
    ")"
   ]
  },
  {
   "cell_type": "code",
   "execution_count": 3,
   "metadata": {},
   "outputs": [
    {
     "ename": "NameError",
     "evalue": "name 'speed_up_sample' is not defined",
     "output_type": "error",
     "traceback": [
      "\u001b[0;31m---------------------------------------------------------------------------\u001b[0m",
      "\u001b[0;31mNameError\u001b[0m                                 Traceback (most recent call last)",
      "Cell \u001b[0;32mIn[3], line 6\u001b[0m\n\u001b[1;32m      2\u001b[0m \u001b[39mimport\u001b[39;00m \u001b[39mtimeit\u001b[39;00m\n\u001b[1;32m      4\u001b[0m sf \u001b[39m=\u001b[39m SampleFile(\u001b[39m'\u001b[39m\u001b[39mdata/saw.wav\u001b[39m\u001b[39m'\u001b[39m, \u001b[39m36\u001b[39m)\n\u001b[0;32m----> 6\u001b[0m timeit\u001b[39m.\u001b[39;49mtimeit(\n\u001b[1;32m      7\u001b[0m     \u001b[39m\"\u001b[39;49m\u001b[39ms = Sample(sf, 60, True)\u001b[39;49m\u001b[39m\"\u001b[39;49m,\n\u001b[1;32m      8\u001b[0m     number\u001b[39m=\u001b[39;49m\u001b[39m10000\u001b[39;49m,\n\u001b[1;32m      9\u001b[0m     \u001b[39mglobals\u001b[39;49m\u001b[39m=\u001b[39;49m\u001b[39mglobals\u001b[39;49m()\n\u001b[1;32m     10\u001b[0m )\n",
      "File \u001b[0;32m/usr/lib/python3.9/timeit.py:233\u001b[0m, in \u001b[0;36mtimeit\u001b[0;34m(stmt, setup, timer, number, globals)\u001b[0m\n\u001b[1;32m    230\u001b[0m \u001b[39mdef\u001b[39;00m \u001b[39mtimeit\u001b[39m(stmt\u001b[39m=\u001b[39m\u001b[39m\"\u001b[39m\u001b[39mpass\u001b[39m\u001b[39m\"\u001b[39m, setup\u001b[39m=\u001b[39m\u001b[39m\"\u001b[39m\u001b[39mpass\u001b[39m\u001b[39m\"\u001b[39m, timer\u001b[39m=\u001b[39mdefault_timer,\n\u001b[1;32m    231\u001b[0m            number\u001b[39m=\u001b[39mdefault_number, \u001b[39mglobals\u001b[39m\u001b[39m=\u001b[39m\u001b[39mNone\u001b[39;00m):\n\u001b[1;32m    232\u001b[0m \u001b[39m    \u001b[39m\u001b[39m\"\"\"Convenience function to create Timer object and call timeit method.\"\"\"\u001b[39;00m\n\u001b[0;32m--> 233\u001b[0m     \u001b[39mreturn\u001b[39;00m Timer(stmt, setup, timer, \u001b[39mglobals\u001b[39;49m)\u001b[39m.\u001b[39;49mtimeit(number)\n",
      "File \u001b[0;32m/usr/lib/python3.9/timeit.py:177\u001b[0m, in \u001b[0;36mTimer.timeit\u001b[0;34m(self, number)\u001b[0m\n\u001b[1;32m    175\u001b[0m gc\u001b[39m.\u001b[39mdisable()\n\u001b[1;32m    176\u001b[0m \u001b[39mtry\u001b[39;00m:\n\u001b[0;32m--> 177\u001b[0m     timing \u001b[39m=\u001b[39m \u001b[39mself\u001b[39;49m\u001b[39m.\u001b[39;49minner(it, \u001b[39mself\u001b[39;49m\u001b[39m.\u001b[39;49mtimer)\n\u001b[1;32m    178\u001b[0m \u001b[39mfinally\u001b[39;00m:\n\u001b[1;32m    179\u001b[0m     \u001b[39mif\u001b[39;00m gcold:\n",
      "File \u001b[0;32m<timeit-src>:6\u001b[0m, in \u001b[0;36minner\u001b[0;34m(_it, _timer)\u001b[0m\n",
      "File \u001b[0;32m~/rattlesnake/samples.py:137\u001b[0m, in \u001b[0;36mSample.__init__\u001b[0;34m(self, sample_file, midinote, new)\u001b[0m\n\u001b[1;32m    131\u001b[0m         \u001b[39mself\u001b[39m\u001b[39m.\u001b[39mright_data \u001b[39m=\u001b[39m np\u001b[39m.\u001b[39marray(np\u001b[39m.\u001b[39minterp(\n\u001b[1;32m    132\u001b[0m             [i\u001b[39m*\u001b[39mfactor \u001b[39mfor\u001b[39;00m i \u001b[39min\u001b[39;00m \u001b[39mrange\u001b[39m(\u001b[39m1\u001b[39m, \u001b[39mint\u001b[39m(\u001b[39mself\u001b[39m\u001b[39m.\u001b[39msample_file\u001b[39m.\u001b[39mnframes\u001b[39m/\u001b[39mfactor))],\n\u001b[1;32m    133\u001b[0m             \u001b[39mrange\u001b[39m(\u001b[39m1\u001b[39m, \u001b[39mself\u001b[39m\u001b[39m.\u001b[39msample_file\u001b[39m.\u001b[39mnframes),\n\u001b[1;32m    134\u001b[0m             \u001b[39mself\u001b[39m\u001b[39m.\u001b[39msample_file\u001b[39m.\u001b[39mright_data,\n\u001b[1;32m    135\u001b[0m         ), np\u001b[39m.\u001b[39mfloat32)\n\u001b[1;32m    136\u001b[0m     \u001b[39melse\u001b[39;00m:\n\u001b[0;32m--> 137\u001b[0m         \u001b[39mself\u001b[39m\u001b[39m.\u001b[39mleft_data \u001b[39m=\u001b[39m speed_up_sample(\n\u001b[1;32m    138\u001b[0m             \u001b[39mself\u001b[39m\u001b[39m.\u001b[39msample_file\u001b[39m.\u001b[39mleft_data,\n\u001b[1;32m    139\u001b[0m             \u001b[39mself\u001b[39m\u001b[39m.\u001b[39msample_file\u001b[39m.\u001b[39msamplenote,\n\u001b[1;32m    140\u001b[0m             \u001b[39mself\u001b[39m\u001b[39m.\u001b[39mmidinote,\n\u001b[1;32m    141\u001b[0m         )\n\u001b[1;32m    142\u001b[0m         \u001b[39mself\u001b[39m\u001b[39m.\u001b[39mright_data \u001b[39m=\u001b[39m speed_up_sample(\n\u001b[1;32m    143\u001b[0m             \u001b[39mself\u001b[39m\u001b[39m.\u001b[39msample_file\u001b[39m.\u001b[39mright_data,\n\u001b[1;32m    144\u001b[0m             \u001b[39mself\u001b[39m\u001b[39m.\u001b[39msample_file\u001b[39m.\u001b[39msamplenote,\n\u001b[1;32m    145\u001b[0m             \u001b[39mself\u001b[39m\u001b[39m.\u001b[39mmidinote,\n\u001b[1;32m    146\u001b[0m         )\n\u001b[1;32m    147\u001b[0m \u001b[39mself\u001b[39m\u001b[39m.\u001b[39mnframes \u001b[39m=\u001b[39m \u001b[39mlen\u001b[39m(\u001b[39mself\u001b[39m\u001b[39m.\u001b[39mright_data)\n",
      "\u001b[0;31mNameError\u001b[0m: name 'speed_up_sample' is not defined"
     ]
    }
   ],
   "source": [
    "from samples import SampleFile, Sample\n",
    "import timeit\n",
    "\n",
    "sf = SampleFile('data/saw.wav', 36)\n",
    "\n",
    "timeit.timeit(\n",
    "    \"s = Sample(sf, 60, True)\",\n",
    "    number=10000,\n",
    "    globals=globals()\n",
    ")"
   ]
  },
  {
   "attachments": {},
   "cell_type": "markdown",
   "metadata": {},
   "source": [
    "## Ouputting "
   ]
  },
  {
   "cell_type": "code",
   "execution_count": 1,
   "metadata": {},
   "outputs": [
    {
     "data": {
      "text/plain": [
       "8.870537605020218"
      ]
     },
     "execution_count": 1,
     "metadata": {},
     "output_type": "execute_result"
    }
   ],
   "source": [
    "from samples import SampleFile, Sample\n",
    "from audio import AudioSystem, Envelope, Sound\n",
    "import timeit\n",
    "import numpy as np\n",
    "\n",
    "a = AudioSystem(None)\n",
    "sf = SampleFile('data/saw.wav', 36)\n",
    "s = Sample(sf, 60)\n",
    "envelope = Envelope(100, a.samplerate * 0.5, a.samplerate * 0.5, 0.5, a.samplerate * 2)\n",
    "sound = Sound(s, envelope)\n",
    "a.play(sound)\n",
    "\n",
    "o = np.zeros(a.blocksize * 2, np.int16)\n",
    "\n",
    "timeit.timeit(\n",
    "    \"a(o, a.blocksize, None, None); sound.pos=0\",\n",
    "    number=10000,\n",
    "    globals=globals()\n",
    ")"
   ]
  }
 ],
 "metadata": {
  "kernelspec": {
   "display_name": ".venv",
   "language": "python",
   "name": "python3"
  },
  "language_info": {
   "codemirror_mode": {
    "name": "ipython",
    "version": 3
   },
   "file_extension": ".py",
   "mimetype": "text/x-python",
   "name": "python",
   "nbconvert_exporter": "python",
   "pygments_lexer": "ipython3",
   "version": "3.9.2"
  },
  "orig_nbformat": 4
 },
 "nbformat": 4,
 "nbformat_minor": 2
}
