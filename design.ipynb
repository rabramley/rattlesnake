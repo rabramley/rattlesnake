{
 "cells": [
  {
   "cell_type": "code",
   "execution_count": null,
   "metadata": {},
   "outputs": [],
   "source": [
    "import numpy as np\n",
    "import pandas as pd\n",
    "import matplotlib.pyplot as plt\n",
    "\n",
    "x=np.arange(-1, 1, step = 0.02)\n",
    "plt.ylim(-1, 1)\n",
    "arctan=np.arctan(x*2)*2/np.pi\n",
    "plt.plot(x,arctan)\n",
    "plt.plot(x,x)\n",
    "\n",
    "plt.show()\n"
   ]
  }
 ],
 "metadata": {
  "language_info": {
   "name": "python"
  },
  "orig_nbformat": 4
 },
 "nbformat": 4,
 "nbformat_minor": 2
}
